{
 "cells": [
  {
   "cell_type": "markdown",
   "id": "797ed220",
   "metadata": {},
   "source": [
    "## Question 1\n",
    "\n",
    "What's the version of NumPy that you installed?"
   ]
  },
  {
   "cell_type": "code",
   "execution_count": 1,
   "id": "fd5e93cc",
   "metadata": {},
   "outputs": [
    {
     "name": "stdout",
     "output_type": "stream",
     "text": [
      "1.19.5\n"
     ]
    }
   ],
   "source": [
    "import numpy as np\n",
    "print(np.__version__)"
   ]
  },
  {
   "cell_type": "markdown",
   "id": "8a6ef363",
   "metadata": {},
   "source": [
    "## Question 2\n",
    "\n",
    "What's the version of Pandas?"
   ]
  },
  {
   "cell_type": "code",
   "execution_count": 2,
   "id": "051bbfd5",
   "metadata": {},
   "outputs": [
    {
     "name": "stdout",
     "output_type": "stream",
     "text": [
      "1.3.3\n"
     ]
    }
   ],
   "source": [
    "import pandas as pd\n",
    "print(pd.__version__)"
   ]
  },
  {
   "cell_type": "markdown",
   "id": "c13ce199",
   "metadata": {},
   "source": [
    "## Reading and loading the data"
   ]
  },
  {
   "cell_type": "code",
   "execution_count": 3,
   "id": "1392317f",
   "metadata": {},
   "outputs": [],
   "source": [
    "#reading the dataset\n",
    "df=pd.read_csv('data.csv')"
   ]
  },
  {
   "cell_type": "markdown",
   "id": "bbd61f4f",
   "metadata": {},
   "source": [
    "## Question 3\n",
    "\n",
    "What's the average price of BMW cars in the dataset?"
   ]
  },
  {
   "cell_type": "code",
   "execution_count": 4,
   "id": "aa956c17",
   "metadata": {},
   "outputs": [
    {
     "data": {
      "text/plain": [
       "61546.76347305389"
      ]
     },
     "execution_count": 4,
     "metadata": {},
     "output_type": "execute_result"
    }
   ],
   "source": [
    "#finding the avg price of BMW cars\n",
    "df[df['Make']=='BMW'].MSRP.mean()"
   ]
  },
  {
   "cell_type": "markdown",
   "id": "0033058b",
   "metadata": {},
   "source": [
    "## Question 4\n",
    "\n",
    "Select a subset of cars after year 2015 (inclusive, i.e. 2015 and after). How many of them have missing values for Engine HP?"
   ]
  },
  {
   "cell_type": "code",
   "execution_count": 5,
   "id": "833e383c",
   "metadata": {},
   "outputs": [
    {
     "data": {
      "text/plain": [
       "51"
      ]
     },
     "execution_count": 5,
     "metadata": {},
     "output_type": "execute_result"
    }
   ],
   "source": [
    "#finding no. of missing values for Engine HP when year>=2015\n",
    "df[df['Year']>=2015]['Engine HP'].isnull().sum()"
   ]
  },
  {
   "cell_type": "markdown",
   "id": "6f475007",
   "metadata": {},
   "source": [
    "51 records have missing values for Engine HP"
   ]
  },
  {
   "cell_type": "markdown",
   "id": "512d4719",
   "metadata": {},
   "source": [
    "## Question 5\n",
    "<ul>\n",
    "    <li>Calculate the average \"Engine HP\" in the dataset.</li>\n",
    "    <li>Use the fillna method and to fill the missing values in \"Engine HP\" with the mean value from the previous step.</li>\n",
    "    <li>Now, calcualte the average of \"Engine HP\" again.</li>\n",
    "    <li>Has it changed?</li>\n",
    "</ul>"
   ]
  },
  {
   "cell_type": "code",
   "execution_count": 6,
   "id": "5862f205",
   "metadata": {},
   "outputs": [
    {
     "name": "stdout",
     "output_type": "stream",
     "text": [
      "Number of records with missing values in  Engine HP are  69\n",
      "Average Engine HP in the dataset with missing values: 249\n",
      "Number of records with missing values in  Engine HP are  0\n",
      "Average Engine HP in the dataset after filling missing values: 249\n"
     ]
    }
   ],
   "source": [
    "print(\"Number of records with missing values in  Engine HP are \", df['Engine HP'].isnull().sum())\n",
    "\n",
    "#finding the average of \"Engine HP\" in the dataset\n",
    "engine_mean=df['Engine HP'].mean()\n",
    "print(\"Average Engine HP in the dataset with missing values:\",round(engine_mean))\n",
    "\n",
    "#filling the missing values in \"Engine HP\" with engine_mean value\n",
    "df['Engine HP']=df['Engine HP'].fillna(engine_mean)\n",
    "\n",
    "#finding the new average of \"Engine HP\" in the dataset\n",
    "new_engine_mean=df['Engine HP'].mean()\n",
    "\n",
    "print(\"Number of records with missing values in  Engine HP are \", df['Engine HP'].isnull().sum())\n",
    "print(\"Average Engine HP in the dataset after filling missing values:\",round(new_engine_mean))"
   ]
  },
  {
   "cell_type": "markdown",
   "id": "8ecceabe",
   "metadata": {},
   "source": [
    "## Question 6\n",
    "<ul>\n",
    "    <li>Select all the \"Rolls-Royce\" cars from the dataset.</li>\n",
    "    <li>Select only columns \"Engine HP\", \"Engine Cylinders\", \"highway MPG\".</li>\n",
    "    <li>Now drop all duplicated rows using drop_duplicates method (you should get a dataframe with 7 rows).</li>\n",
    "    <li>Get the underlying NumPy array. Let's call it X.</li>\n",
    "    <li>Compute matrix-matrix multiplication between the transpose of X and X. To get the transpose, use X.T. Let's call the result XTX.</li>\n",
    "    <li>Invert XTX.</li>\n",
    "    <li>What's the sum of all the elements of the result?</li>\n",
    "</ul>"
   ]
  },
  {
   "cell_type": "code",
   "execution_count": 7,
   "id": "60a98fd4",
   "metadata": {},
   "outputs": [
    {
     "name": "stdout",
     "output_type": "stream",
     "text": [
      "Sum of all the elements of XTX inverse is  0.032212320677486125\n"
     ]
    }
   ],
   "source": [
    "from numpy.linalg import inv\n",
    "\n",
    "#selecting all Rolls-Royce cars\n",
    "rolls_royce=df[df['Make']=='Rolls-Royce']\n",
    "\n",
    "#selecting only \"Engine HP\", \"Engine Cylinders\" and \"highway MPG\" columns\n",
    "sh_rolls_royce=rolls_royce[[\"Engine HP\", \"Engine Cylinders\", \"highway MPG\"]]\n",
    "\n",
    "#dropping all the duplicated rows\n",
    "sh_rolls_royce=sh_rolls_royce.drop_duplicates()\n",
    "\n",
    "#getting numpy array from dataframe\n",
    "rolls_royce_numpy=sh_rolls_royce.to_numpy()\n",
    "\n",
    "#calculating matrix-matrix multiplication b/w X.T and X\n",
    "XTX=np.dot(rolls_royce_numpy.T,rolls_royce_numpy)\n",
    "\n",
    "#finding the inverse of XTX\n",
    "XTX_inv= inv(XTX)\n",
    "print(\"Sum of all the elements of XTX inverse is \",np.sum(XTX_inv))"
   ]
  },
  {
   "cell_type": "markdown",
   "id": "7db2b1ce",
   "metadata": {},
   "source": [
    "## Questions 7\n",
    "<ul>\n",
    "    <li>Create an array y with values [1000, 1100, 900, 1200, 1000, 850, 1300].</li>\n",
    "       <li>Multiply the inverse of XTX with the transpose of X, and then multiply the result by y. Call the result w.</li>\n",
    "    <li>What's the value of the first element of w?.</li>\n",
    "</ul>"
   ]
  },
  {
   "cell_type": "code",
   "execution_count": 8,
   "id": "4eed4b9b",
   "metadata": {},
   "outputs": [
    {
     "name": "stdout",
     "output_type": "stream",
     "text": [
      "w: [ 0.19989598 31.02612262 31.65378877]\n",
      "0.19989598183189017  is the value of the first element of w\n"
     ]
    }
   ],
   "source": [
    "y=[1000,1100,900,1200,1000,850,1300]\n",
    "\n",
    "#calculating w = (XTX_inv * X.T)*y\n",
    "w= np.dot(np.dot(XTX_inv,rolls_royce_numpy.T),y)\n",
    "\n",
    "print(\"w:\",w)\n",
    "print(w[0],\" is the value of the first element of w\")"
   ]
  }
 ],
 "metadata": {
  "kernelspec": {
   "display_name": "Python 3 (ipykernel)",
   "language": "python",
   "name": "python3"
  },
  "language_info": {
   "codemirror_mode": {
    "name": "ipython",
    "version": 3
   },
   "file_extension": ".py",
   "mimetype": "text/x-python",
   "name": "python",
   "nbconvert_exporter": "python",
   "pygments_lexer": "ipython3",
   "version": "3.8.10"
  }
 },
 "nbformat": 4,
 "nbformat_minor": 5
}
